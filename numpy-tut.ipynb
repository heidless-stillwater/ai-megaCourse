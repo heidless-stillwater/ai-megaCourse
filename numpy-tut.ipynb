{
 "cells": [
  {
   "cell_type": "markdown",
   "id": "122b2430-fd31-436f-990c-fbff17efaf07",
   "metadata": {},
   "source": [
    "# [Intro To Numpy - Numpy For Machine Learning 1](https://www.youtube.com/watch?v=gnKbAAVUzro)"
   ]
  },
  {
   "cell_type": "code",
   "execution_count": null,
   "id": "c70513cd-3de9-40cf-ab14-3dcbcddfecbf",
   "metadata": {},
   "outputs": [],
   "source": []
  },
  {
   "cell_type": "code",
   "execution_count": null,
   "id": "818b0729-eee5-45c5-a0b5-a0eef17c5ffc",
   "metadata": {},
   "outputs": [],
   "source": []
  },
  {
   "cell_type": "code",
   "execution_count": null,
   "id": "9fab2ee8-78ce-408c-b5dc-6f79ee3ac5e6",
   "metadata": {},
   "outputs": [],
   "source": []
  },
  {
   "cell_type": "code",
   "execution_count": null,
   "id": "cfa2286a-5083-438d-b641-450c7102ef77",
   "metadata": {},
   "outputs": [],
   "source": []
  }
 ],
 "metadata": {
  "kernelspec": {
   "display_name": "Python 3 (ipykernel)",
   "language": "python",
   "name": "python3"
  },
  "language_info": {
   "codemirror_mode": {
    "name": "ipython",
    "version": 3
   },
   "file_extension": ".py",
   "mimetype": "text/x-python",
   "name": "python",
   "nbconvert_exporter": "python",
   "pygments_lexer": "ipython3",
   "version": "3.11.10"
  }
 },
 "nbformat": 4,
 "nbformat_minor": 5
}
